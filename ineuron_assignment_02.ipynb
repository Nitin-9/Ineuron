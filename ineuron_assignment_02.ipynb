{
 "cells": [
  {
   "cell_type": "markdown",
   "metadata": {},
   "source": [
    "# PROBLEM STATEMENT 1\n",
    "Write a program which accepts a sequence of comma-separated numbers from console  and generate a list. \n"
   ]
  },
  {
   "cell_type": "code",
   "execution_count": 100,
   "metadata": {},
   "outputs": [
    {
     "name": "stdout",
     "output_type": "stream",
     "text": [
      "enter how many numbers u want to enter :5\n",
      "enter your numbers :25\n",
      "enter your numbers :35455\n",
      "enter your numbers :554\n",
      "enter your numbers :55\n",
      "enter your numbers :56\n",
      "\n",
      " your entered numbers in last format are : \n"
     ]
    },
    {
     "data": {
      "text/plain": [
       "[25, 35455, 554, 55, 56]"
      ]
     },
     "execution_count": 100,
     "metadata": {},
     "output_type": "execute_result"
    }
   ],
   "source": [
    "num=int(input(\"enter how many numbers u want to enter :\"))\n",
    "num_list=[]\n",
    "for i in range(num):\n",
    "    input_no=int(input(\"enter your numbers :\"))\n",
    "    num_list.append(input_no)\n",
    "\n",
    "print(\"\\n your entered numbers in last format are : \")\n",
    "num_list\n"
   ]
  },
  {
   "cell_type": "code",
   "execution_count": null,
   "metadata": {},
   "outputs": [],
   "source": []
  },
  {
   "cell_type": "markdown",
   "metadata": {},
   "source": [
    "# PROBLEM STATEMENT 2\n",
    "Create the below pattern using nested for loop in Python. \n",
    "* \n",
    "* * \n",
    "* * * \n",
    "* * * * \n",
    "* * * * * \n",
    "* * * * \n",
    "* * * \n",
    "* * \n",
    "* \n"
   ]
  },
  {
   "cell_type": "code",
   "execution_count": 59,
   "metadata": {},
   "outputs": [
    {
     "name": "stdout",
     "output_type": "stream",
     "text": [
      "\n",
      "*\n",
      "**\n",
      "***\n",
      "****\n",
      "*****\n",
      "****\n",
      "***\n",
      "**\n",
      "*\n"
     ]
    }
   ],
   "source": [
    "for i in range(10):\n",
    "    for j in range(1):\n",
    "        if i<5:\n",
    "            print(\"*\"*i) # PRINTING FIRST 5 * IN INCREASING ORDER\n",
    "        else:\n",
    "            print(\"*\"*(10-i)) # PRINTING FIRST 5 * IN DECREASING ORDER"
   ]
  },
  {
   "cell_type": "markdown",
   "metadata": {},
   "source": [
    "# PROBLEM STATEMENT 3\n",
    "Write a Python program to reverse a word after accepting the input from the user. "
   ]
  },
  {
   "cell_type": "code",
   "execution_count": 77,
   "metadata": {},
   "outputs": [
    {
     "name": "stdout",
     "output_type": "stream",
     "text": [
      "Enter the word for reverse: ineuron\n"
     ]
    },
    {
     "data": {
      "text/plain": [
       "'norueni'"
      ]
     },
     "execution_count": 77,
     "metadata": {},
     "output_type": "execute_result"
    }
   ],
   "source": [
    "word_for_reversal = input(\"Enter the word for reverse: \" )\n",
    "reversed_string = word_for_reversal[::-1] #double coulan will reverse the whole string ,-1 means starts from last index \n",
    "reversed_string #output string in reversed format"
   ]
  }
 ],
 "metadata": {
  "kernelspec": {
   "display_name": "Python 3",
   "language": "python",
   "name": "python3"
  },
  "language_info": {
   "codemirror_mode": {
    "name": "ipython",
    "version": 3
   },
   "file_extension": ".py",
   "mimetype": "text/x-python",
   "name": "python",
   "nbconvert_exporter": "python",
   "pygments_lexer": "ipython3",
   "version": "3.8.5"
  }
 },
 "nbformat": 4,
 "nbformat_minor": 4
}
